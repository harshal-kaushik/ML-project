{
 "cells": [
  {
   "cell_type": "code",
   "id": "initial_id",
   "metadata": {
    "collapsed": true,
    "ExecuteTime": {
     "end_time": "2025-08-22T11:45:12.170166Z",
     "start_time": "2025-08-22T11:45:11.852690Z"
    }
   },
   "source": [
    "# basic import\n",
    "import numpy as np\n",
    "import pandas as pd\n",
    "import matplotlib.pyplot as plt\n",
    "import seaborn as sns\n",
    "# Modeling\n",
    "from sklearn.metrics import r2_score,mean_absolute_error,mean_squared_error\n",
    "from sklearn.model_selection import RandomizedSearchCV\n",
    "from sklearn.linear_model import LinearRegression\n",
    "from sklearn.svm import SVR\n",
    "from sklearn.neighbors import KNeighborsRegressor\n",
    "from sklearn.tree import DecisionTreeRegressor\n",
    "from sklearn.ensemble import RandomForestRegressor"
   ],
   "outputs": [],
   "execution_count": 1
  },
  {
   "metadata": {
    "ExecuteTime": {
     "end_time": "2025-08-22T11:45:16.487219Z",
     "start_time": "2025-08-22T11:45:16.455236Z"
    }
   },
   "cell_type": "code",
   "source": [
    "df = pd.read_csv('StudentsPerformance.csv')\n",
    "df.head()"
   ],
   "id": "b4aefdb68101480b",
   "outputs": [
    {
     "data": {
      "text/plain": [
       "   gender race/ethnicity parental level of education         lunch  \\\n",
       "0  female        group B           bachelor's degree      standard   \n",
       "1  female        group C                some college      standard   \n",
       "2  female        group B             master's degree      standard   \n",
       "3    male        group A          associate's degree  free/reduced   \n",
       "4    male        group C                some college      standard   \n",
       "\n",
       "  test preparation course  math score  reading score  writing score  \n",
       "0                    none          72             72             74  \n",
       "1               completed          69             90             88  \n",
       "2                    none          90             95             93  \n",
       "3                    none          47             57             44  \n",
       "4                    none          76             78             75  "
      ],
      "text/html": [
       "<div>\n",
       "<style scoped>\n",
       "    .dataframe tbody tr th:only-of-type {\n",
       "        vertical-align: middle;\n",
       "    }\n",
       "\n",
       "    .dataframe tbody tr th {\n",
       "        vertical-align: top;\n",
       "    }\n",
       "\n",
       "    .dataframe thead th {\n",
       "        text-align: right;\n",
       "    }\n",
       "</style>\n",
       "<table border=\"1\" class=\"dataframe\">\n",
       "  <thead>\n",
       "    <tr style=\"text-align: right;\">\n",
       "      <th></th>\n",
       "      <th>gender</th>\n",
       "      <th>race/ethnicity</th>\n",
       "      <th>parental level of education</th>\n",
       "      <th>lunch</th>\n",
       "      <th>test preparation course</th>\n",
       "      <th>math score</th>\n",
       "      <th>reading score</th>\n",
       "      <th>writing score</th>\n",
       "    </tr>\n",
       "  </thead>\n",
       "  <tbody>\n",
       "    <tr>\n",
       "      <th>0</th>\n",
       "      <td>female</td>\n",
       "      <td>group B</td>\n",
       "      <td>bachelor's degree</td>\n",
       "      <td>standard</td>\n",
       "      <td>none</td>\n",
       "      <td>72</td>\n",
       "      <td>72</td>\n",
       "      <td>74</td>\n",
       "    </tr>\n",
       "    <tr>\n",
       "      <th>1</th>\n",
       "      <td>female</td>\n",
       "      <td>group C</td>\n",
       "      <td>some college</td>\n",
       "      <td>standard</td>\n",
       "      <td>completed</td>\n",
       "      <td>69</td>\n",
       "      <td>90</td>\n",
       "      <td>88</td>\n",
       "    </tr>\n",
       "    <tr>\n",
       "      <th>2</th>\n",
       "      <td>female</td>\n",
       "      <td>group B</td>\n",
       "      <td>master's degree</td>\n",
       "      <td>standard</td>\n",
       "      <td>none</td>\n",
       "      <td>90</td>\n",
       "      <td>95</td>\n",
       "      <td>93</td>\n",
       "    </tr>\n",
       "    <tr>\n",
       "      <th>3</th>\n",
       "      <td>male</td>\n",
       "      <td>group A</td>\n",
       "      <td>associate's degree</td>\n",
       "      <td>free/reduced</td>\n",
       "      <td>none</td>\n",
       "      <td>47</td>\n",
       "      <td>57</td>\n",
       "      <td>44</td>\n",
       "    </tr>\n",
       "    <tr>\n",
       "      <th>4</th>\n",
       "      <td>male</td>\n",
       "      <td>group C</td>\n",
       "      <td>some college</td>\n",
       "      <td>standard</td>\n",
       "      <td>none</td>\n",
       "      <td>76</td>\n",
       "      <td>78</td>\n",
       "      <td>75</td>\n",
       "    </tr>\n",
       "  </tbody>\n",
       "</table>\n",
       "</div>"
      ]
     },
     "execution_count": 2,
     "metadata": {},
     "output_type": "execute_result"
    }
   ],
   "execution_count": 2
  },
  {
   "metadata": {},
   "cell_type": "markdown",
   "source": "## we will try to predict the math score taking all other columns as independent features",
   "id": "9d29dd2cebc9651c"
  },
  {
   "metadata": {
    "ExecuteTime": {
     "end_time": "2025-08-22T11:45:49.786482Z",
     "start_time": "2025-08-22T11:45:49.777168Z"
    }
   },
   "cell_type": "code",
   "source": [
    "X = df.drop(columns=['math score'],axis=1)\n",
    "y = df['math score']"
   ],
   "id": "b760ba7e1c993c95",
   "outputs": [],
   "execution_count": 3
  },
  {
   "metadata": {},
   "cell_type": "markdown",
   "source": "## Feature Encoding",
   "id": "feca7058b15566dd"
  },
  {
   "metadata": {
    "ExecuteTime": {
     "end_time": "2025-08-22T11:46:10.572007Z",
     "start_time": "2025-08-22T11:46:10.562513Z"
    }
   },
   "cell_type": "code",
   "source": [
    "num_features = X.select_dtypes(exclude='object').columns\n",
    "cat_features = X.select_dtypes(include='object').columns\n",
    "\n",
    "from sklearn.preprocessing import OneHotEncoder,StandardScaler\n",
    "from sklearn.compose import ColumnTransformer\n",
    "\n",
    "numerical_transformer = StandardScaler()\n",
    "categorical_transformer = OneHotEncoder()\n",
    "\n",
    "preprocessor = ColumnTransformer(\n",
    "    [\n",
    "        ('OneHotEncoder', OneHotEncoder(handle_unknown='ignore'), cat_features),\n",
    "        ('StandardScaler', numerical_transformer, num_features),\n",
    "    ]\n",
    ")"
   ],
   "id": "43c56b54d0e96bd1",
   "outputs": [],
   "execution_count": 4
  },
  {
   "metadata": {
    "ExecuteTime": {
     "end_time": "2025-08-22T11:46:17.956099Z",
     "start_time": "2025-08-22T11:46:17.937624Z"
    }
   },
   "cell_type": "code",
   "source": "X_transformed = preprocessor.fit_transform(X)",
   "id": "9f58ba77d8f66f15",
   "outputs": [],
   "execution_count": 5
  },
  {
   "metadata": {
    "ExecuteTime": {
     "end_time": "2025-08-22T11:46:34.327972Z",
     "start_time": "2025-08-22T11:46:34.318974Z"
    }
   },
   "cell_type": "code",
   "source": "X_transformed.shape",
   "id": "12b74074eb860998",
   "outputs": [
    {
     "data": {
      "text/plain": [
       "(1000, 19)"
      ]
     },
     "execution_count": 7,
     "metadata": {},
     "output_type": "execute_result"
    }
   ],
   "execution_count": 7
  },
  {
   "metadata": {
    "ExecuteTime": {
     "end_time": "2025-08-22T11:47:24.726145Z",
     "start_time": "2025-08-22T11:47:24.713198Z"
    }
   },
   "cell_type": "code",
   "source": [
    "# train test split\n",
    "from sklearn.model_selection import train_test_split\n",
    "X_train,X_test,y_train,y_test = train_test_split(X_transformed,y,test_size=0.2,random_state=42)"
   ],
   "id": "810dac305d37a5d8",
   "outputs": [],
   "execution_count": 11
  },
  {
   "metadata": {
    "ExecuteTime": {
     "end_time": "2025-08-22T12:08:23.944520Z",
     "start_time": "2025-08-22T12:08:23.934220Z"
    }
   },
   "cell_type": "code",
   "source": [
    "def evaluate_model(true,predicted):\n",
    "    score = r2_score(true,predicted)\n",
    "    mae = mean_absolute_error(true,predicted)\n",
    "    mse = mean_squared_error(true,predicted)\n",
    "    rmse = np.sqrt(mse)\n",
    "    return mae , rmse , score"
   ],
   "id": "9bcccaa70e1dc6c2",
   "outputs": [],
   "execution_count": 15
  },
  {
   "metadata": {
    "ExecuteTime": {
     "end_time": "2025-08-22T11:47:28.667675Z",
     "start_time": "2025-08-22T11:47:26.496055Z"
    }
   },
   "cell_type": "code",
   "source": [
    "\n",
    "models = [\n",
    "    (\"Linear Regression\", LinearRegression()),\n",
    "    (\"Decision Tree Regressor\", DecisionTreeRegressor()),\n",
    "    (\"Random Forest Regressor\", RandomForestRegressor()),\n",
    "    (\"SVR\", SVR()),\n",
    "    (\"K nearest neighbour\", KNeighborsRegressor())\n",
    "]\n",
    "\n",
    "for name, model in models:\n",
    "    print(f\"\\n🚀 Training {name}...\")  # Shows model name at start\n",
    "\n",
    "    # Fit model\n",
    "    model.fit(X_train, y_train)\n",
    "\n",
    "    # Make predictions\n",
    "    y_train_pred = model.predict(X_train)\n",
    "    y_test_pred = model.predict(X_test)\n",
    "\n",
    "    # Evaluate model\n",
    "    model_train_mae, model_train_rmse, model_train_r2 = evaluate_model(y_train, y_train_pred)\n",
    "    model_test_mae, model_test_rmse, model_test_r2 = evaluate_model(y_test, y_test_pred)\n",
    "\n",
    "    # Print training performance\n",
    "    print(\"\\n📊 Performance on Training set:\")\n",
    "    print(f\"  MAE      : {model_train_mae:.4f}\")\n",
    "    print(f\"  RMSE     : {model_train_rmse:.4f}\")\n",
    "    print(f\"  R² Score : {model_train_r2:.4f}\")\n",
    "\n",
    "    print(\"-\" * 40)\n",
    "\n",
    "    # Print testing performance\n",
    "    print(\"🧪 Performance on Test set:\")\n",
    "    print(f\"  MAE      : {model_test_mae:.4f}\")\n",
    "    print(f\"  RMSE     : {model_test_rmse:.4f}\")\n",
    "    print(f\"  R² Score : {model_test_r2:.4f}\")\n",
    "\n",
    "    print(\"=\" * 50)\n"
   ],
   "id": "aa615f3c7fc35bfe",
   "outputs": [
    {
     "name": "stdout",
     "output_type": "stream",
     "text": [
      "\n",
      "🚀 Training Linear Regression...\n",
      "\n",
      "📊 Performance on Training set:\n",
      "  MAE      : 4.2667\n",
      "  RMSE     : 5.3231\n",
      "  R² Score : 0.8743\n",
      "----------------------------------------\n",
      "🧪 Performance on Test set:\n",
      "  MAE      : 4.2148\n",
      "  RMSE     : 5.3940\n",
      "  R² Score : 0.8804\n",
      "==================================================\n",
      "\n",
      "🚀 Training Decision Tree Regressor...\n",
      "\n",
      "📊 Performance on Training set:\n",
      "  MAE      : 0.0187\n",
      "  RMSE     : 0.2795\n",
      "  R² Score : 0.9997\n",
      "----------------------------------------\n",
      "🧪 Performance on Test set:\n",
      "  MAE      : 6.2700\n",
      "  RMSE     : 7.9423\n",
      "  R² Score : 0.7408\n",
      "==================================================\n",
      "\n",
      "🚀 Training Random Forest Regressor...\n",
      "\n",
      "📊 Performance on Training set:\n",
      "  MAE      : 1.8315\n",
      "  RMSE     : 2.3130\n",
      "  R² Score : 0.9763\n",
      "----------------------------------------\n",
      "🧪 Performance on Test set:\n",
      "  MAE      : 4.5733\n",
      "  RMSE     : 5.9165\n",
      "  R² Score : 0.8561\n",
      "==================================================\n",
      "\n",
      "🚀 Training SVR...\n",
      "\n",
      "📊 Performance on Training set:\n",
      "  MAE      : 4.8692\n",
      "  RMSE     : 6.5770\n",
      "  R² Score : 0.8081\n",
      "----------------------------------------\n",
      "🧪 Performance on Test set:\n",
      "  MAE      : 5.4015\n",
      "  RMSE     : 8.1266\n",
      "  R² Score : 0.7286\n",
      "==================================================\n",
      "\n",
      "🚀 Training K nearest neighbour...\n",
      "\n",
      "📊 Performance on Training set:\n",
      "  MAE      : 4.5167\n",
      "  RMSE     : 5.7077\n",
      "  R² Score : 0.8555\n",
      "----------------------------------------\n",
      "🧪 Performance on Test set:\n",
      "  MAE      : 5.6210\n",
      "  RMSE     : 7.2530\n",
      "  R² Score : 0.7838\n",
      "==================================================\n"
     ]
    }
   ],
   "execution_count": 13
  },
  {
   "metadata": {},
   "cell_type": "code",
   "outputs": [],
   "execution_count": null,
   "source": "",
   "id": "241d3f91091dfe4e"
  }
 ],
 "metadata": {
  "kernelspec": {
   "display_name": "Python 3",
   "language": "python",
   "name": "python3"
  },
  "language_info": {
   "codemirror_mode": {
    "name": "ipython",
    "version": 2
   },
   "file_extension": ".py",
   "mimetype": "text/x-python",
   "name": "python",
   "nbconvert_exporter": "python",
   "pygments_lexer": "ipython2",
   "version": "2.7.6"
  }
 },
 "nbformat": 4,
 "nbformat_minor": 5
}
